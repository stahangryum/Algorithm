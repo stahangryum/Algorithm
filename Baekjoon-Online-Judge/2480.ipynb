{
 "cells": [
  {
   "cell_type": "markdown",
   "id": "5ae4e068-8254-4a58-b422-d11dd64f3760",
   "metadata": {},
   "source": [
    "# intro"
   ]
  },
  {
   "cell_type": "markdown",
   "id": "e480bfb2-c4c2-4895-8bfa-205336a04d85",
   "metadata": {},
   "source": [
    "# code"
   ]
  },
  {
   "cell_type": "code",
   "execution_count": 1,
   "id": "3437c470-8031-40fb-978f-24642c9870a3",
   "metadata": {},
   "outputs": [
    {
     "name": "stdin",
     "output_type": "stream",
     "text": [
      " 3 3 6\n"
     ]
    },
    {
     "name": "stdout",
     "output_type": "stream",
     "text": [
      "1300\n"
     ]
    }
   ],
   "source": [
    "d1, d2, d3 = map(int, input().split())\n",
    "\n",
    "if d1 == d2 == d3: print(10000 + d1*1000)\n",
    "elif d1 == d2 != d3: print(1000 + d1*100)\n",
    "elif d1 != d2 == d3: print(1000 + d2*100)\n",
    "elif d1 == d3 != d2: print(1000 + d1*100)\n",
    "elif d1 != d2 != d3: print(max(d1, d2, d3)*100)"
   ]
  },
  {
   "cell_type": "code",
   "execution_count": null,
   "id": "cb7ad9ae-f3e9-4e4a-bd56-e456edc9aed2",
   "metadata": {},
   "outputs": [],
   "source": []
  }
 ],
 "metadata": {
  "kernelspec": {
   "display_name": "Python 3 (ipykernel)",
   "language": "python",
   "name": "python3"
  },
  "language_info": {
   "codemirror_mode": {
    "name": "ipython",
    "version": 3
   },
   "file_extension": ".py",
   "mimetype": "text/x-python",
   "name": "python",
   "nbconvert_exporter": "python",
   "pygments_lexer": "ipython3",
   "version": "3.9.7"
  }
 },
 "nbformat": 4,
 "nbformat_minor": 5
}
