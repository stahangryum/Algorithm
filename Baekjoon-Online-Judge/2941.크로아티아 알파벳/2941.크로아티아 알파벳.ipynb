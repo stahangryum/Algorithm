{
 "cells": [
  {
   "cell_type": "code",
   "execution_count": 42,
   "id": "3e2ab62a-0f2c-4c47-b0a7-c3f54a6c3a32",
   "metadata": {},
   "outputs": [
    {
     "name": "stdin",
     "output_type": "stream",
     "text": [
      " nljj\n"
     ]
    },
    {
     "data": {
      "text/plain": [
       "3"
      ]
     },
     "execution_count": 42,
     "metadata": {},
     "output_type": "execute_result"
    }
   ],
   "source": [
    "input_strings = str(input())\n",
    "\n",
    "def translate_cro(strings):\n",
    "    lnes = 0\n",
    "    cro_lists = [\"c=\", \"c-\", \"dz=\", \"d-\", \"lj\", \"nj\", \"s=\", \"z=\"] # dz=가 z=보다 우선 순위에 있다.\n",
    "    for i in range(len(cro_lists)):\n",
    "        while True:\n",
    "            if cro_lists[i] not in strings: break\n",
    "            lnes = lnes + (len(strings) - len(strings.replace(cro_lists[i], \"\")))/len(cro_lists[i])\n",
    "            strings = strings.replace(cro_lists[i], \"**\")\n",
    "    lnes = lnes + len(strings.replace(\"**\", \"\"))\n",
    "    return(int(lnes))\n",
    "\n",
    "translate_cro(input_strings)"
   ]
  },
  {
   "cell_type": "code",
   "execution_count": null,
   "id": "84d5df93-5815-471d-b677-d2b24dbdabf2",
   "metadata": {},
   "outputs": [],
   "source": []
  }
 ],
 "metadata": {
  "kernelspec": {
   "display_name": "Python 3 (ipykernel)",
   "language": "python",
   "name": "python3"
  },
  "language_info": {
   "codemirror_mode": {
    "name": "ipython",
    "version": 3
   },
   "file_extension": ".py",
   "mimetype": "text/x-python",
   "name": "python",
   "nbconvert_exporter": "python",
   "pygments_lexer": "ipython3",
   "version": "3.9.7"
  }
 },
 "nbformat": 4,
 "nbformat_minor": 5
}
