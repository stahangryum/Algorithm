{
 "cells": [
  {
   "cell_type": "markdown",
   "id": "2ac4697a-f0af-4681-8178-9eeee123d4c6",
   "metadata": {},
   "source": [
    "# draft"
   ]
  },
  {
   "cell_type": "code",
   "execution_count": 1,
   "id": "e9fecf58-74dc-409e-b70b-ccc838f462ea",
   "metadata": {},
   "outputs": [
    {
     "name": "stdin",
     "output_type": "stream",
     "text": [
      " 10 20\n"
     ]
    }
   ],
   "source": [
    "K, N = map(int, input().split())"
   ]
  },
  {
   "cell_type": "code",
   "execution_count": 27,
   "id": "fdab49c8-587c-4ca0-818b-a569860991f5",
   "metadata": {},
   "outputs": [
    {
     "name": "stdin",
     "output_type": "stream",
     "text": [
      " 2\n",
      " 5 30 25 76 23 78\n",
      " 6 25 50 70 99 70 90\n"
     ]
    }
   ],
   "source": [
    "K = int(input())\n",
    "N = []\n",
    "grade = []\n",
    "for i in range(K):\n",
    "    N_input, *grade_input = map(int, input().split())\n",
    "    N.append(N_input)\n",
    "    grade.append(grade_input)"
   ]
  },
  {
   "cell_type": "code",
   "execution_count": 50,
   "id": "6e8bba51-31a9-43ee-b72b-ecd55592cbec",
   "metadata": {},
   "outputs": [
    {
     "data": {
      "text/plain": [
       "2"
      ]
     },
     "execution_count": 50,
     "metadata": {},
     "output_type": "execute_result"
    }
   ],
   "source": [
    "K"
   ]
  },
  {
   "cell_type": "code",
   "execution_count": 29,
   "id": "f0e712d3-3067-48ea-90a8-2110bc01e1ba",
   "metadata": {},
   "outputs": [
    {
     "data": {
      "text/plain": [
       "[5, 6]"
      ]
     },
     "execution_count": 29,
     "metadata": {},
     "output_type": "execute_result"
    }
   ],
   "source": [
    "N"
   ]
  },
  {
   "cell_type": "code",
   "execution_count": 30,
   "id": "f26bf603-5f19-485e-afbf-e2a0fe47b27f",
   "metadata": {},
   "outputs": [
    {
     "data": {
      "text/plain": [
       "[[30, 25, 76, 23, 78], [25, 50, 70, 99, 70, 90]]"
      ]
     },
     "execution_count": 30,
     "metadata": {},
     "output_type": "execute_result"
    }
   ],
   "source": [
    "grade"
   ]
  },
  {
   "cell_type": "code",
   "execution_count": 37,
   "id": "7ed3aa80-b45f-4c4c-8e86-502c5c206a22",
   "metadata": {},
   "outputs": [],
   "source": [
    "grade[0].sort()"
   ]
  },
  {
   "cell_type": "code",
   "execution_count": 38,
   "id": "c53e850d-5821-42fb-b0ae-0b94a6eedd4e",
   "metadata": {},
   "outputs": [
    {
     "data": {
      "text/plain": [
       "[23, 25, 30, 76, 78]"
      ]
     },
     "execution_count": 38,
     "metadata": {},
     "output_type": "execute_result"
    }
   ],
   "source": [
    "grade[0]"
   ]
  },
  {
   "cell_type": "code",
   "execution_count": 31,
   "id": "1466b4ce-cff0-4305-9822-e28d61fcd457",
   "metadata": {},
   "outputs": [
    {
     "data": {
      "text/plain": [
       "[30, 25, 76, 23, 78]"
      ]
     },
     "execution_count": 31,
     "metadata": {},
     "output_type": "execute_result"
    }
   ],
   "source": [
    "grade[0]"
   ]
  },
  {
   "cell_type": "code",
   "execution_count": 33,
   "id": "a1f79793-adac-4247-9d20-614aa9a85a31",
   "metadata": {},
   "outputs": [
    {
     "data": {
      "text/plain": [
       "78"
      ]
     },
     "execution_count": 33,
     "metadata": {},
     "output_type": "execute_result"
    }
   ],
   "source": [
    "max(grade[0])"
   ]
  },
  {
   "cell_type": "code",
   "execution_count": 39,
   "id": "4ac92d4f-8b50-4703-b117-7d108a4f26ef",
   "metadata": {},
   "outputs": [
    {
     "data": {
      "text/plain": [
       "5"
      ]
     },
     "execution_count": 39,
     "metadata": {},
     "output_type": "execute_result"
    }
   ],
   "source": [
    "len(grade[0])"
   ]
  },
  {
   "cell_type": "code",
   "execution_count": 47,
   "id": "a9e3e6e4-a908-41b8-9b69-907188312b7f",
   "metadata": {},
   "outputs": [],
   "source": [
    "def max_diff_consecutive(array):\n",
    "    max_diff = 0\n",
    "    array.sort()\n",
    "    for N in range(len(array)-1):\n",
    "        if array[N+1] - array[N] > max_diff: max_diff = array[N+1] - array[N]\n",
    "    return max_diff\n",
    "    "
   ]
  },
  {
   "cell_type": "code",
   "execution_count": 48,
   "id": "07b40189-367d-4d48-a3cc-375a7e0adea5",
   "metadata": {},
   "outputs": [
    {
     "name": "stdout",
     "output_type": "stream",
     "text": [
      "Class 1\n",
      "Max 78, Min 23, Largest gap 46\n",
      "Class 2\n",
      "Max 99, Min 25, Largest gap 25\n"
     ]
    }
   ],
   "source": [
    "for i in range(K):\n",
    "    print('Class {0}'. format(i+1))\n",
    "    print('Max {0}, Min {1}, Largest gap {2}'. format(max(grade[i]),\n",
    "                                                      min(grade[i]),\n",
    "                                                      max_diff_consecutive(grade[i])))\n",
    "    "
   ]
  },
  {
   "cell_type": "markdown",
   "id": "6bf11a57-1e36-4b32-8d3c-2dfebf20dc9c",
   "metadata": {},
   "source": [
    "# final version"
   ]
  },
  {
   "cell_type": "code",
   "execution_count": 49,
   "id": "a5f142f8-1132-4388-9937-a8c6ca146733",
   "metadata": {},
   "outputs": [
    {
     "name": "stdin",
     "output_type": "stream",
     "text": [
      " 2\n",
      " 5 30 25 76 23 78\n",
      " 6 25 50 70 99 70 90\n"
     ]
    },
    {
     "name": "stdout",
     "output_type": "stream",
     "text": [
      "Class 1\n",
      "Max 78, Min 23, Largest gap 46\n",
      "Class 2\n",
      "Max 99, Min 25, Largest gap 25\n"
     ]
    }
   ],
   "source": [
    "def max_diff_consecutive(array):\n",
    "    max_diff = 0\n",
    "    array.sort()\n",
    "    for N in range(len(array)-1):\n",
    "        if array[N+1] - array[N] > max_diff: max_diff = array[N+1] - array[N]\n",
    "    return max_diff\n",
    "\n",
    "K = int(input())\n",
    "N = []\n",
    "grade = []\n",
    "for i in range(K):\n",
    "    N_input, *grade_input = map(int, input().split())\n",
    "    N.append(N_input)\n",
    "    grade.append(grade_input)\n",
    "    \n",
    "for i in range(K):\n",
    "    print('Class {0}'. format(i+1))\n",
    "    print('Max {0}, Min {1}, Largest gap {2}'. format(max(grade[i]),\n",
    "                                                      min(grade[i]),\n",
    "                                                      max_diff_consecutive(grade[i])))"
   ]
  },
  {
   "cell_type": "code",
   "execution_count": null,
   "id": "bc652135-2f7a-4785-b007-83ac20177164",
   "metadata": {},
   "outputs": [],
   "source": []
  }
 ],
 "metadata": {
  "kernelspec": {
   "display_name": "Python 3 (ipykernel)",
   "language": "python",
   "name": "python3"
  },
  "language_info": {
   "codemirror_mode": {
    "name": "ipython",
    "version": 3
   },
   "file_extension": ".py",
   "mimetype": "text/x-python",
   "name": "python",
   "nbconvert_exporter": "python",
   "pygments_lexer": "ipython3",
   "version": "3.9.7"
  }
 },
 "nbformat": 4,
 "nbformat_minor": 5
}
