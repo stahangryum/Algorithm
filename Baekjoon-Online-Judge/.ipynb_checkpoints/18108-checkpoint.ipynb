{
 "cells": [
  {
   "cell_type": "markdown",
   "id": "966bb20f-1401-4011-81ce-791a51e4e41f",
   "metadata": {},
   "source": [
    "# intro"
   ]
  },
  {
   "cell_type": "code",
   "execution_count": 1,
   "id": "d55e0af2-b5e8-42de-a4f8-a2000f8e7a29",
   "metadata": {},
   "outputs": [
    {
     "data": {
      "text/plain": [
       "543"
      ]
     },
     "execution_count": 1,
     "metadata": {},
     "output_type": "execute_result"
    }
   ],
   "source": [
    "2541-1998"
   ]
  },
  {
   "cell_type": "markdown",
   "id": "03aefe1d-d1ca-4902-a6dc-e7579d50f959",
   "metadata": {},
   "source": [
    "# code"
   ]
  },
  {
   "cell_type": "code",
   "execution_count": 2,
   "id": "7ec29af9-6dd5-4039-bd88-d3ce1b15090f",
   "metadata": {},
   "outputs": [
    {
     "name": "stdin",
     "output_type": "stream",
     "text": [
      " 2541\n"
     ]
    },
    {
     "name": "stdout",
     "output_type": "stream",
     "text": [
      "1998\n"
     ]
    }
   ],
   "source": [
    "print(int(input())-543)"
   ]
  }
 ],
 "metadata": {
  "kernelspec": {
   "display_name": "Python 3 (ipykernel)",
   "language": "python",
   "name": "python3"
  },
  "language_info": {
   "codemirror_mode": {
    "name": "ipython",
    "version": 3
   },
   "file_extension": ".py",
   "mimetype": "text/x-python",
   "name": "python",
   "nbconvert_exporter": "python",
   "pygments_lexer": "ipython3",
   "version": "3.9.7"
  }
 },
 "nbformat": 4,
 "nbformat_minor": 5
}
