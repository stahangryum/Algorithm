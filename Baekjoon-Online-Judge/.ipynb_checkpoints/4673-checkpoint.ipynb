{
 "cells": [
  {
   "cell_type": "code",
   "execution_count": 2,
   "id": "3394f621-bcf6-41ae-8756-f092b028bffc",
   "metadata": {},
   "outputs": [],
   "source": [
    "def self_num(N):\n",
    "    N_str = str(N)\n",
    "    for i in N_str: N = N + int(i)\n",
    "    return N"
   ]
  },
  {
   "cell_type": "code",
   "execution_count": 3,
   "id": "8bf5ee82-6451-4206-8c27-85e7234e9a0f",
   "metadata": {},
   "outputs": [
    {
     "data": {
      "text/plain": [
       "4"
      ]
     },
     "execution_count": 3,
     "metadata": {},
     "output_type": "execute_result"
    }
   ],
   "source": [
    "self_num(2)"
   ]
  },
  {
   "cell_type": "code",
   "execution_count": 5,
   "id": "5eff7d6b-a691-4144-bf40-66ef13baa54d",
   "metadata": {},
   "outputs": [
    {
     "name": "stdout",
     "output_type": "stream",
     "text": [
      "6\n",
      "12\n",
      "15\n",
      "21\n",
      "24\n",
      "30\n",
      "33\n",
      "39\n",
      "51\n",
      "57\n",
      "69\n",
      "84\n",
      "96\n"
     ]
    }
   ],
   "source": [
    "N = 1\n",
    "N = 3\n",
    "while True:\n",
    "    N = self_num(N)\n",
    "    if N > 100: break\n",
    "    else: print(N)"
   ]
  },
  {
   "cell_type": "code",
   "execution_count": null,
   "id": "7253b585-b691-4a86-bc6d-fb2c6b542b8a",
   "metadata": {},
   "outputs": [],
   "source": []
  }
 ],
 "metadata": {
  "kernelspec": {
   "display_name": "Python 3 (ipykernel)",
   "language": "python",
   "name": "python3"
  },
  "language_info": {
   "codemirror_mode": {
    "name": "ipython",
    "version": 3
   },
   "file_extension": ".py",
   "mimetype": "text/x-python",
   "name": "python",
   "nbconvert_exporter": "python",
   "pygments_lexer": "ipython3",
   "version": "3.9.7"
  }
 },
 "nbformat": 4,
 "nbformat_minor": 5
}
