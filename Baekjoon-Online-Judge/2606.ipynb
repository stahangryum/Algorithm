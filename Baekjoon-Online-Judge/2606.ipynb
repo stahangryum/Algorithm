{
 "cells": [
  {
   "cell_type": "code",
   "execution_count": null,
   "id": "c7fda7b1-91fb-4569-b8b0-030136d42075",
   "metadata": {},
   "outputs": [],
   "source": [
    "comp_num = int(input())\n",
    "virus = int(input())\n",
    "\n",
    "connecting = []\n",
    "\n",
    "for i in range(virsu):\n",
    "    "
   ]
  }
 ],
 "metadata": {
  "kernelspec": {
   "display_name": "Python 3 (ipykernel)",
   "language": "python",
   "name": "python3"
  },
  "language_info": {
   "codemirror_mode": {
    "name": "ipython",
    "version": 3
   },
   "file_extension": ".py",
   "mimetype": "text/x-python",
   "name": "python",
   "nbconvert_exporter": "python",
   "pygments_lexer": "ipython3",
   "version": "3.9.7"
  }
 },
 "nbformat": 4,
 "nbformat_minor": 5
}
