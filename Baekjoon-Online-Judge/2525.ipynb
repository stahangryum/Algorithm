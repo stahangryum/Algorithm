{
 "cells": [
  {
   "cell_type": "markdown",
   "id": "38b6b3d3-bbb9-4c99-9b8e-6d0470cbbd19",
   "metadata": {},
   "source": [
    "# intro"
   ]
  },
  {
   "cell_type": "markdown",
   "id": "28bb02c4-e9a6-4b7c-b933-0f69878785cf",
   "metadata": {},
   "source": [
    "# code"
   ]
  },
  {
   "cell_type": "code",
   "execution_count": 34,
   "id": "dae12e41-0cf5-42c0-a133-b2f5a5245d64",
   "metadata": {},
   "outputs": [
    {
     "name": "stdin",
     "output_type": "stream",
     "text": [
      " 17 40\n",
      " 80\n"
     ]
    },
    {
     "name": "stdout",
     "output_type": "stream",
     "text": [
      "19 0\n"
     ]
    }
   ],
   "source": [
    "A, B = map(int, input().split())\n",
    "C = int(input())\n",
    "\n",
    "time = A*60 + B + C\n",
    "\n",
    "time = list(divmod(time, 60))\n",
    "\n",
    "while True:\n",
    "    if time[0] >= 24: time[0] = time[0] - 24\n",
    "    else: break\n",
    "\n",
    "print(' '.join(map(str, time)))"
   ]
  },
  {
   "cell_type": "code",
   "execution_count": null,
   "id": "d15cb51a-f78e-4e92-9d1b-aa7969f2b3ff",
   "metadata": {},
   "outputs": [],
   "source": []
  }
 ],
 "metadata": {
  "kernelspec": {
   "display_name": "Python 3 (ipykernel)",
   "language": "python",
   "name": "python3"
  },
  "language_info": {
   "codemirror_mode": {
    "name": "ipython",
    "version": 3
   },
   "file_extension": ".py",
   "mimetype": "text/x-python",
   "name": "python",
   "nbconvert_exporter": "python",
   "pygments_lexer": "ipython3",
   "version": "3.9.7"
  }
 },
 "nbformat": 4,
 "nbformat_minor": 5
}
