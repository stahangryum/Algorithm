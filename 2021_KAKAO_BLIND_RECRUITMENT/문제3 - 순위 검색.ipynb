{
 "cells": [
  {
   "cell_type": "markdown",
   "id": "cd413896-ed4b-4b6c-9056-817df5922971",
   "metadata": {},
   "source": [
    "# Intro"
   ]
  },
  {
   "cell_type": "markdown",
   "id": "d0e6e385-88de-414e-81de-270dcf419bab",
   "metadata": {},
   "source": [
    "`-` 개발 언어 : cpp, java, python\n",
    "\n",
    "`-` 직군 : backend, frontend\n",
    "\n",
    "`-` 경력 : junior, senior\n",
    "\n",
    "`-` 소울푸드 : chicken, pizza\n",
    "\n",
    "`-` 점수 : $1\\leq N \\leq100,000$"
   ]
  },
  {
   "cell_type": "code",
   "execution_count": 404,
   "id": "333a6093-c360-409b-97c8-bdd76b9bfb41",
   "metadata": {},
   "outputs": [],
   "source": [
    "info = [\"java backend junior pizza 150\",\"python frontend senior chicken 210\",\"python frontend senior chicken 150\",\"cpp backend senior pizza 260\",\"java backend junior chicken 80\",\"python backend senior chicken 50\"]\n",
    "query = [\"java and backend and junior and pizza 100\",\"python and frontend and senior and chicken 200\",\"cpp and - and senior and pizza 250\",\"- and backend and senior and - 150\",\"- and - and - and chicken 100\",\"- and - and - and - 150\"]"
   ]
  },
  {
   "cell_type": "code",
   "execution_count": 405,
   "id": "58fa62e9-4ab7-424b-9b9b-b06babd8e9fa",
   "metadata": {},
   "outputs": [],
   "source": [
    "num_want = 0\n",
    "ts = 0\n",
    "answer = []"
   ]
  },
  {
   "cell_type": "code",
   "execution_count": 399,
   "id": "242a7d63-8297-4a99-bd77-d088bdf74b1a",
   "metadata": {},
   "outputs": [],
   "source": [
    "for i in range(len(info)):\n",
    "    info[i] = info[i].split(\" \")"
   ]
  },
  {
   "cell_type": "code",
   "execution_count": 386,
   "id": "25d939ee-336b-44a6-a1b5-81aa0d4e6f08",
   "metadata": {},
   "outputs": [
    {
     "data": {
      "text/plain": [
       "[['java', 'backend', 'junior', 'pizza', '150'],\n",
       " ['python', 'frontend', 'senior', 'chicken', '210'],\n",
       " ['python', 'frontend', 'senior', 'chicken', '150'],\n",
       " ['cpp', 'backend', 'senior', 'pizza', '260'],\n",
       " ['java', 'backend', 'junior', 'chicken', '80'],\n",
       " ['python', 'backend', 'senior', 'chicken', '50']]"
      ]
     },
     "execution_count": 386,
     "metadata": {},
     "output_type": "execute_result"
    }
   ],
   "source": [
    "info"
   ]
  },
  {
   "cell_type": "code",
   "execution_count": 387,
   "id": "dad583fe-6906-4abc-aa80-ec24352a4b07",
   "metadata": {},
   "outputs": [],
   "source": [
    "for i in range(len(query)):\n",
    "    query[i] = query[i].split(\"and \")\n",
    "    query[i] = \"\".join(query[i])\n",
    "    query[i] = query[i].split(\" \")"
   ]
  },
  {
   "cell_type": "code",
   "execution_count": 388,
   "id": "b9708d41-185a-4817-8b7d-ac10744102d4",
   "metadata": {},
   "outputs": [
    {
     "data": {
      "text/plain": [
       "[['java', 'backend', 'junior', 'pizza', '100'],\n",
       " ['python', 'frontend', 'senior', 'chicken', '200'],\n",
       " ['cpp', '-', 'senior', 'pizza', '250'],\n",
       " ['-', 'backend', 'senior', '-', '150'],\n",
       " ['-', '-', '-', 'chicken', '100'],\n",
       " ['-', '-', '-', '-', '150']]"
      ]
     },
     "execution_count": 388,
     "metadata": {},
     "output_type": "execute_result"
    }
   ],
   "source": [
    "query"
   ]
  },
  {
   "cell_type": "code",
   "execution_count": 389,
   "id": "b02f2f5c-f774-4d39-a4a4-63304e5b2b9d",
   "metadata": {},
   "outputs": [],
   "source": [
    "for q in range(len(query)):\n",
    "    ts = 0\n",
    "    for k in range(len(info)):\n",
    "        for i in range(4):\n",
    "            if (info[k][i] == query[q][i]) or (query[q][i] == '-'): \n",
    "                num_want = num_want + 1\n",
    "            else: break\n",
    "        if (num_want == 4) and (int(info[k][4]) >= int(query[q][4])):\n",
    "            ts = ts + 1\n",
    "        num_want = 0\n",
    "    answer = answer + [ts]"
   ]
  },
  {
   "cell_type": "code",
   "execution_count": 390,
   "id": "8b0a203f-c2cd-4efa-8d32-b66a318eb34c",
   "metadata": {},
   "outputs": [
    {
     "data": {
      "text/plain": [
       "[1, 1, 1, 1, 2, 4]"
      ]
     },
     "execution_count": 390,
     "metadata": {},
     "output_type": "execute_result"
    }
   ],
   "source": [
    "answer"
   ]
  },
  {
   "cell_type": "markdown",
   "id": "22240051-d0bd-4eeb-84e0-ab36c742db4c",
   "metadata": {},
   "source": [
    "# Code"
   ]
  },
  {
   "cell_type": "code",
   "execution_count": 406,
   "id": "585fb555-0583-4510-b490-9f0a1ba8363f",
   "metadata": {},
   "outputs": [],
   "source": [
    "def solution(info, query):\n",
    "    num_want = 0\n",
    "    ts = 0\n",
    "    answer = []\n",
    "    \n",
    "    for i in range(len(info)): \n",
    "        info[i] = info[i].split(\" \")\n",
    "    for i in range(len(query)):\n",
    "        query[i] = query[i].split(\"and \")\n",
    "        query[i] = \"\".join(query[i])\n",
    "        query[i] = query[i].split(\" \")\n",
    "        \n",
    "    for q in range(len(query)):\n",
    "        ts = 0\n",
    "        for k in range(len(info)):\n",
    "            for i in range(4):\n",
    "                if (info[k][i] == query[q][i]) or (query[q][i] == '-'): \n",
    "                    num_want = num_want + 1\n",
    "                else: break\n",
    "            if (num_want == 4) and (int(info[k][4]) >= int(query[q][4])):\n",
    "                ts = ts + 1\n",
    "            num_want = 0\n",
    "        answer = answer + [ts]\n",
    "    \n",
    "    return(answer)"
   ]
  },
  {
   "cell_type": "code",
   "execution_count": 407,
   "id": "b233cd05-b609-4a3d-bda6-a9cce0e36fd3",
   "metadata": {},
   "outputs": [
    {
     "data": {
      "text/plain": [
       "[1, 1, 1, 1, 2, 4]"
      ]
     },
     "execution_count": 407,
     "metadata": {},
     "output_type": "execute_result"
    }
   ],
   "source": [
    "solution(info,query)"
   ]
  },
  {
   "cell_type": "code",
   "execution_count": null,
   "id": "d2043e91-6301-4b4a-ae82-98cdb6ec2834",
   "metadata": {},
   "outputs": [],
   "source": []
  }
 ],
 "metadata": {
  "kernelspec": {
   "display_name": "Python 3 (ipykernel)",
   "language": "python",
   "name": "python3"
  },
  "language_info": {
   "codemirror_mode": {
    "name": "ipython",
    "version": 3
   },
   "file_extension": ".py",
   "mimetype": "text/x-python",
   "name": "python",
   "nbconvert_exporter": "python",
   "pygments_lexer": "ipython3",
   "version": "3.9.7"
  }
 },
 "nbformat": 4,
 "nbformat_minor": 5
}
