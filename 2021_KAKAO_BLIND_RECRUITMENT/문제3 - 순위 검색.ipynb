{
 "cells": [
  {
   "cell_type": "markdown",
   "id": "d0e6e385-88de-414e-81de-270dcf419bab",
   "metadata": {},
   "source": [
    "`-` 개발 언어 : cpp, java, python\n",
    "\n",
    "`-` 직군 : backend, frontend\n",
    "\n",
    "`-` 경력 : junior, senior\n",
    "\n",
    "`-` 소울푸드 : chicken, pizza\n",
    "\n",
    "`-` 점수 : $1\\leq$"
   ]
  },
  {
   "cell_type": "code",
   "execution_count": null,
   "id": "333a6093-c360-409b-97c8-bdd76b9bfb41",
   "metadata": {},
   "outputs": [],
   "source": []
  }
 ],
 "metadata": {
  "kernelspec": {
   "display_name": "Python 3 (ipykernel)",
   "language": "python",
   "name": "python3"
  },
  "language_info": {
   "codemirror_mode": {
    "name": "ipython",
    "version": 3
   },
   "file_extension": ".py",
   "mimetype": "text/x-python",
   "name": "python",
   "nbconvert_exporter": "python",
   "pygments_lexer": "ipython3",
   "version": "3.9.7"
  }
 },
 "nbformat": 4,
 "nbformat_minor": 5
}
