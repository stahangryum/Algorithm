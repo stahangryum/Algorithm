{
 "cells": [
  {
   "cell_type": "code",
   "execution_count": null,
   "id": "68759413-91a5-4950-a0c8-12dac0281649",
   "metadata": {},
   "outputs": [],
   "source": [
    "def solution(orders, course):"
   ]
  },
  {
   "cell_type": "markdown",
   "id": "8b74a69a-f61b-4ee3-91ac-3421db0dc02e",
   "metadata": {},
   "source": [
    "- course 2 "
   ]
  },
  {
   "cell_type": "code",
   "execution_count": 1,
   "id": "65250e9c-5794-4ff5-a323-4eba63c2470e",
   "metadata": {},
   "outputs": [],
   "source": [
    "oders = [\"ABCFG\", \"AC\", \"CDE\", \"ACDE\", \"BCFG\", \"ACDEH\"]"
   ]
  },
  {
   "cell_type": "code",
   "execution_count": 42,
   "id": "c55d72de-c00b-4f7e-a359-e3e893979cbf",
   "metadata": {},
   "outputs": [],
   "source": [
    "A = oders[0]"
   ]
  },
  {
   "cell_type": "code",
   "execution_count": 43,
   "id": "dbb41faa-bd62-4492-a853-c6ac06fc71a9",
   "metadata": {},
   "outputs": [
    {
     "data": {
      "text/plain": [
       "'ABCFG'"
      ]
     },
     "execution_count": 43,
     "metadata": {},
     "output_type": "execute_result"
    }
   ],
   "source": [
    "A"
   ]
  },
  {
   "cell_type": "code",
   "execution_count": 51,
   "id": "049faf2c-c076-40ad-99c6-8542da7ebf9a",
   "metadata": {},
   "outputs": [],
   "source": [
    "comb = []\n",
    "for i in range(len(oders[0])):\n",
    "    for j in range(i+1,len(oders[0])):\n",
    "        comb.append(oders[0][i] + oders[0][j])"
   ]
  },
  {
   "cell_type": "code",
   "execution_count": 52,
   "id": "583cc90a-0797-43c0-bff1-1cc13c425e10",
   "metadata": {},
   "outputs": [
    {
     "data": {
      "text/plain": [
       "['AB', 'AC', 'AF', 'AG', 'BC', 'BF', 'BG', 'CF', 'CG', 'FG']"
      ]
     },
     "execution_count": 52,
     "metadata": {},
     "output_type": "execute_result"
    }
   ],
   "source": [
    "comb"
   ]
  },
  {
   "cell_type": "code",
   "execution_count": 53,
   "id": "6122fd48-102f-4c44-9dad-f4740312b23a",
   "metadata": {},
   "outputs": [
    {
     "ename": "IndexError",
     "evalue": "string index out of range",
     "output_type": "error",
     "traceback": [
      "\u001b[1;31m---------------------------------------------------------------------------\u001b[0m",
      "\u001b[1;31mIndexError\u001b[0m                                Traceback (most recent call last)",
      "\u001b[1;32m~\\AppData\\Local\\Temp/ipykernel_17244/506270410.py\u001b[0m in \u001b[0;36m<module>\u001b[1;34m\u001b[0m\n\u001b[0;32m      3\u001b[0m     \u001b[1;32mfor\u001b[0m \u001b[0mi\u001b[0m \u001b[1;32min\u001b[0m \u001b[0mrange\u001b[0m\u001b[1;33m(\u001b[0m\u001b[0mlen\u001b[0m\u001b[1;33m(\u001b[0m\u001b[0moders\u001b[0m\u001b[1;33m[\u001b[0m\u001b[0mh\u001b[0m\u001b[1;33m]\u001b[0m\u001b[1;33m)\u001b[0m\u001b[1;33m)\u001b[0m\u001b[1;33m:\u001b[0m\u001b[1;33m\u001b[0m\u001b[1;33m\u001b[0m\u001b[0m\n\u001b[0;32m      4\u001b[0m         \u001b[1;32mfor\u001b[0m \u001b[0mj\u001b[0m \u001b[1;32min\u001b[0m \u001b[0mrange\u001b[0m\u001b[1;33m(\u001b[0m\u001b[0mi\u001b[0m\u001b[1;33m+\u001b[0m\u001b[1;36m1\u001b[0m\u001b[1;33m,\u001b[0m\u001b[0mlen\u001b[0m\u001b[1;33m(\u001b[0m\u001b[0moders\u001b[0m\u001b[1;33m[\u001b[0m\u001b[1;36m0\u001b[0m\u001b[1;33m]\u001b[0m\u001b[1;33m)\u001b[0m\u001b[1;33m)\u001b[0m\u001b[1;33m:\u001b[0m\u001b[1;33m\u001b[0m\u001b[1;33m\u001b[0m\u001b[0m\n\u001b[1;32m----> 5\u001b[1;33m             \u001b[0mcomb\u001b[0m\u001b[1;33m.\u001b[0m\u001b[0mappend\u001b[0m\u001b[1;33m(\u001b[0m\u001b[0moders\u001b[0m\u001b[1;33m[\u001b[0m\u001b[0mh\u001b[0m\u001b[1;33m]\u001b[0m\u001b[1;33m[\u001b[0m\u001b[0mi\u001b[0m\u001b[1;33m]\u001b[0m \u001b[1;33m+\u001b[0m \u001b[0moders\u001b[0m\u001b[1;33m[\u001b[0m\u001b[0mh\u001b[0m\u001b[1;33m]\u001b[0m\u001b[1;33m[\u001b[0m\u001b[0mj\u001b[0m\u001b[1;33m]\u001b[0m\u001b[1;33m)\u001b[0m\u001b[1;33m\u001b[0m\u001b[1;33m\u001b[0m\u001b[0m\n\u001b[0m",
      "\u001b[1;31mIndexError\u001b[0m: string index out of range"
     ]
    }
   ],
   "source": [
    "comb = []\n",
    "for h in range(len(oders)):\n",
    "    for i in range(len(oders[h])):\n",
    "        for j in range(i+1,len(oders[0])):\n",
    "            comb.append(oders[h][i] + oders[h][j])"
   ]
  },
  {
   "cell_type": "code",
   "execution_count": null,
   "id": "26b27e2c-5aa0-48a1-9e8e-36ab151024a5",
   "metadata": {},
   "outputs": [],
   "source": []
  }
 ],
 "metadata": {
  "kernelspec": {
   "display_name": "Python 3 (ipykernel)",
   "language": "python",
   "name": "python3"
  },
  "language_info": {
   "codemirror_mode": {
    "name": "ipython",
    "version": 3
   },
   "file_extension": ".py",
   "mimetype": "text/x-python",
   "name": "python",
   "nbconvert_exporter": "python",
   "pygments_lexer": "ipython3",
   "version": "3.9.7"
  }
 },
 "nbformat": 4,
 "nbformat_minor": 5
}
