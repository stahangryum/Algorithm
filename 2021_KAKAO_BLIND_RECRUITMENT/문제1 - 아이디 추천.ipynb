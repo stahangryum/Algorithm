{
 "cells": [
  {
   "cell_type": "code",
   "execution_count": 20,
   "id": "dc47cdda-a1a4-453c-ae52-48524c3665b1",
   "metadata": {},
   "outputs": [],
   "source": [
    "import string"
   ]
  },
  {
   "cell_type": "code",
   "execution_count": 217,
   "id": "09b3e5b6-8f92-4b31-9821-8886abe810fa",
   "metadata": {},
   "outputs": [],
   "source": [
    "def solution(new_id):\n",
    "    # Step. 1\n",
    "    new_id = new_id.lower()\n",
    "\n",
    "    # Step. 2\n",
    "    able_string = list(string.ascii_lowercase + string.digits + '_' + \".\" +\"-\")\n",
    "    \n",
    "    temp_ = \"\"\n",
    "    for i in new_id: \n",
    "        if i in able_string: temp_ = temp_ + i\n",
    "    new_id = temp_\n",
    "    \n",
    "    \n",
    "    # Step. 3\n",
    "    temp_ = \"\"\n",
    "    dot_stack = False\n",
    "    for i in new_id:\n",
    "        if (i != \".\"):\n",
    "            dot_stack = False\n",
    "            temp_ = temp_ + i\n",
    "        elif (i == \".\") and (dot_stack == False):\n",
    "            dot_stack = True\n",
    "            temp_ = temp_ + i\n",
    "        elif (i == \".\") and (dot_stack == True):\n",
    "            continue\n",
    "    new_id = temp_\n",
    "    \n",
    "    # Step. 4\n",
    "    new_id = list(new_id)\n",
    "    \n",
    "    if len(new_id) == 0: pass\n",
    "    elif (new_id[0] == '.'): del new_id[0]\n",
    "    \n",
    "    if len(new_id) == 0: pass\n",
    "    elif (new_id[-1] == '.') : del new_id[-1]\n",
    "    \n",
    "    # Step. 5\n",
    "    if len(new_id) == 0: new_id.append(\"a\")\n",
    "    \n",
    "    # Step. 6\n",
    "    if len(new_id) > 15: \n",
    "        new_id = new_id[:15]\n",
    "        if new_id[-1] == '.': del new_id[-1]\n",
    "    \n",
    "    # Step. 7\n",
    "    while len(new_id) <= 2: # Step5가 있으므로 문자열의 길이는 1이상\n",
    "        new_id.append(new_id[-1])\n",
    "    \n",
    "    new_id = \"\".join(new_id)\n",
    "    return(new_id)\n",
    "    "
   ]
  },
  {
   "cell_type": "code",
   "execution_count": 218,
   "id": "dd897cbc-d99b-4749-914e-fc2cab9e5ee5",
   "metadata": {},
   "outputs": [
    {
     "data": {
      "text/plain": [
       "True"
      ]
     },
     "execution_count": 218,
     "metadata": {},
     "output_type": "execute_result"
    }
   ],
   "source": [
    "solution(\"...!@BaT#*..y.abcdefghijklm\") == \"bat.y.abcdefghi\""
   ]
  },
  {
   "cell_type": "code",
   "execution_count": 219,
   "id": "b0f11a79-b7e6-4fbf-8802-67e492c9e8f0",
   "metadata": {},
   "outputs": [
    {
     "data": {
      "text/plain": [
       "'aaa'"
      ]
     },
     "execution_count": 219,
     "metadata": {},
     "output_type": "execute_result"
    }
   ],
   "source": [
    "solution(\"=.=\")"
   ]
  },
  {
   "cell_type": "code",
   "execution_count": null,
   "id": "bd8f8c40-ce4b-4ddd-9b6d-aafe1050fea6",
   "metadata": {},
   "outputs": [],
   "source": []
  }
 ],
 "metadata": {
  "kernelspec": {
   "display_name": "Python 3 (ipykernel)",
   "language": "python",
   "name": "python3"
  },
  "language_info": {
   "codemirror_mode": {
    "name": "ipython",
    "version": 3
   },
   "file_extension": ".py",
   "mimetype": "text/x-python",
   "name": "python",
   "nbconvert_exporter": "python",
   "pygments_lexer": "ipython3",
   "version": "3.9.7"
  }
 },
 "nbformat": 4,
 "nbformat_minor": 5
}
