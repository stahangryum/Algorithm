{
 "cells": [
  {
   "cell_type": "code",
   "execution_count": 20,
   "id": "dc47cdda-a1a4-453c-ae52-48524c3665b1",
   "metadata": {},
   "outputs": [],
   "source": [
    "import string"
   ]
  },
  {
   "cell_type": "code",
   "execution_count": 61,
   "id": "09b3e5b6-8f92-4b31-9821-8886abe810fa",
   "metadata": {},
   "outputs": [],
   "source": [
    "def solution(new_id):\n",
    "    # Step. 1\n",
    "    new_id = new_id.lower()\n",
    "    \n",
    "    # Step. 2\n",
    "    able_string = list(string.ascii_lowercase + string.digits + '_' + \".\" +\"-\")\n",
    "    \n",
    "    new_id = list(new_id)\n",
    "    for i in new_id: \n",
    "        if i not in able_string: new_id.remove(i)\n",
    "        #print(i)\n",
    "        #print(new_id)\n",
    "    return(new_id)\n",
    "    "
   ]
  },
  {
   "cell_type": "code",
   "execution_count": 62,
   "id": "dd897cbc-d99b-4749-914e-fc2cab9e5ee5",
   "metadata": {},
   "outputs": [
    {
     "data": {
      "text/plain": [
       "['.',\n",
       " '.',\n",
       " '.',\n",
       " '@',\n",
       " 'b',\n",
       " 'a',\n",
       " 't',\n",
       " '*',\n",
       " '.',\n",
       " '.',\n",
       " 'y',\n",
       " '.',\n",
       " 'a',\n",
       " 'b',\n",
       " 'c',\n",
       " 'd',\n",
       " 'e',\n",
       " 'f',\n",
       " 'g',\n",
       " 'h',\n",
       " 'i',\n",
       " 'j',\n",
       " 'k',\n",
       " 'l',\n",
       " 'm']"
      ]
     },
     "execution_count": 62,
     "metadata": {},
     "output_type": "execute_result"
    }
   ],
   "source": [
    "solution(\"...!@BaT#*..y.abcdefghijklm\")"
   ]
  },
  {
   "cell_type": "code",
   "execution_count": 47,
   "id": "693da146-48d0-4b56-bbda-a4140f415efe",
   "metadata": {},
   "outputs": [],
   "source": [
    "able_string = list(string.ascii_lowercase + string.digits + '_' + \".\" +\"-\")"
   ]
  },
  {
   "cell_type": "code",
   "execution_count": 48,
   "id": "d7af2895-27b7-416d-9213-7384f6383c4a",
   "metadata": {},
   "outputs": [],
   "source": [
    "import string"
   ]
  },
  {
   "cell_type": "code",
   "execution_count": 19,
   "id": "29b50b84-32c6-4136-b1ec-face730daf38",
   "metadata": {},
   "outputs": [
    {
     "data": {
      "text/plain": [
       "\u001b[1;31mType:\u001b[0m        module\n",
       "\u001b[1;31mString form:\u001b[0m <module 'string' from 'C:\\\\Users\\\\user\\\\anaconda3\\\\envs\\\\py39r40\\\\lib\\\\string.py'>\n",
       "\u001b[1;31mFile:\u001b[0m        c:\\users\\user\\anaconda3\\envs\\py39r40\\lib\\string.py\n",
       "\u001b[1;31mDocstring:\u001b[0m  \n",
       "A collection of string constants.\n",
       "\n",
       "Public module variables:\n",
       "\n",
       "whitespace -- a string containing all ASCII whitespace\n",
       "ascii_lowercase -- a string containing all ASCII lowercase letters\n",
       "ascii_uppercase -- a string containing all ASCII uppercase letters\n",
       "ascii_letters -- a string containing all ASCII letters\n",
       "digits -- a string containing all ASCII decimal digits\n",
       "hexdigits -- a string containing all ASCII hexadecimal digits\n",
       "octdigits -- a string containing all ASCII octal digits\n",
       "punctuation -- a string containing all ASCII punctuation characters\n",
       "printable -- a string containing all ASCII characters considered printable\n"
      ]
     },
     "metadata": {},
     "output_type": "display_data"
    }
   ],
   "source": []
  },
  {
   "cell_type": "code",
   "execution_count": null,
   "id": "7f4de268-89a7-4f36-8d17-b0fb4b8ccf1b",
   "metadata": {},
   "outputs": [],
   "source": []
  }
 ],
 "metadata": {
  "kernelspec": {
   "display_name": "Python 3 (ipykernel)",
   "language": "python",
   "name": "python3"
  },
  "language_info": {
   "codemirror_mode": {
    "name": "ipython",
    "version": 3
   },
   "file_extension": ".py",
   "mimetype": "text/x-python",
   "name": "python",
   "nbconvert_exporter": "python",
   "pygments_lexer": "ipython3",
   "version": "3.9.7"
  }
 },
 "nbformat": 4,
 "nbformat_minor": 5
}
