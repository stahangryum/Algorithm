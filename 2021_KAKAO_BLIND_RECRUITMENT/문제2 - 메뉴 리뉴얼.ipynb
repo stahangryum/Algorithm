{
 "cells": [
  {
   "cell_type": "markdown",
   "id": "771bcd49-7d09-4064-97b4-131762b90e77",
   "metadata": {},
   "source": [
    "# Intro"
   ]
  },
  {
   "cell_type": "markdown",
   "id": "669cd2bd-f8c5-4bba-8c9b-e820b4089444",
   "metadata": {},
   "source": [
    "- 1번 손님\n",
    "\n",
    "    - 요리 2개 코스 Combination\n",
    "    - 요리 3개 코스 Combination\n",
    "    - 요리 4개 코스 Combination\n",
    "    - 요리 5개 코스 Combination = Origin\n",
    "\n",
    "- 2번 손님\n",
    "\n",
    "    - 요리 2개 코스 Combination\n",
    "    - 요리 3개 코스 Combination = Origin\n",
    "\n",
    "$\\dots$\n",
    "\n",
    "- 주문한 메뉴의 개수가 N개인 손님\n",
    "\n",
    "    - 요리 2개 코스 Combination\n",
    "    - $\\dots$\n",
    "    - 요리 n-1개 코스 Combination\n",
    "    - 요리 n개 코스 Combination = Origin"
   ]
  },
  {
   "cell_type": "markdown",
   "id": "9eada5c9-0fb4-4f7e-b225-13e594e97c95",
   "metadata": {},
   "source": [
    " \n",
    "- 요리 2개 코스 최다\n",
    "\n",
    "- 요리 3개 코스 최다\n",
    "\n",
    "$\\dots$\n",
    "\n",
    "- 요리 n개 코스 최다"
   ]
  },
  {
   "cell_type": "markdown",
   "id": "1ef358c2-d4bd-410c-bc48-1710f6d292c4",
   "metadata": {},
   "source": [
    "# Code"
   ]
  },
  {
   "cell_type": "code",
   "execution_count": 271,
   "id": "e451b411-ad1f-40f4-a53c-b07a7172a07c",
   "metadata": {},
   "outputs": [],
   "source": [
    "from itertools import combinations\n",
    "from collections import Counter\n",
    "\n",
    "def solution(orders, course):\n",
    "\n",
    "    pre_comb = []\n",
    "    final_comb = []\n",
    "\n",
    "    for i in range(len(course)): pre_comb.append([])\n",
    "\n",
    "    for i in range(len(course)):\n",
    "        for k in orders:\n",
    "            for n in combinations(k, course[i]): pre_comb[i].append(\"\".join(sorted(n)))\n",
    "        for comb, num in Counter(pre_comb[i]).most_common():\n",
    "\n",
    "            top_num = Counter(pre_comb[i]).most_common(n=1)[0][1]\n",
    "            if (top_num == num) and (num >=2): final_comb.append(comb)\n",
    "            else: break\n",
    "                \n",
    "    final_comb = sorted(final_comb)\n",
    "    \n",
    "    return(final_comb)"
   ]
  },
  {
   "cell_type": "code",
   "execution_count": 272,
   "id": "9cc49a16-e2c4-4390-97cc-dd54b77b9c59",
   "metadata": {},
   "outputs": [
    {
     "data": {
      "text/plain": [
       "['AC', 'ACDE', 'BCFG', 'CDE']"
      ]
     },
     "execution_count": 272,
     "metadata": {},
     "output_type": "execute_result"
    }
   ],
   "source": [
    "solution([\"ABCFG\", \"AC\", \"CDE\", \"ACDE\", \"BCFG\", \"ACDEH\"], [2,3,4])"
   ]
  },
  {
   "cell_type": "code",
   "execution_count": 273,
   "id": "2ffab8dc-808c-4dba-bab8-fa83bdd06cc5",
   "metadata": {},
   "outputs": [
    {
     "data": {
      "text/plain": [
       "['ACD', 'AD', 'ADE', 'CD', 'XYZ']"
      ]
     },
     "execution_count": 273,
     "metadata": {},
     "output_type": "execute_result"
    }
   ],
   "source": [
    "solution([\"ABCDE\", \"AB\", \"CD\", \"ADE\", \"XYZ\", \"XYZ\", \"ACD\"], [2,3,5])"
   ]
  },
  {
   "cell_type": "code",
   "execution_count": 274,
   "id": "944d7f38-637e-4810-bf46-56e3fe50d7d3",
   "metadata": {},
   "outputs": [
    {
     "data": {
      "text/plain": [
       "['WX', 'XY']"
      ]
     },
     "execution_count": 274,
     "metadata": {},
     "output_type": "execute_result"
    }
   ],
   "source": [
    "solution([\"XYZ\", \"XWY\", \"WXA\"], [2,3,4])"
   ]
  }
 ],
 "metadata": {
  "kernelspec": {
   "display_name": "Python 3 (ipykernel)",
   "language": "python",
   "name": "python3"
  },
  "language_info": {
   "codemirror_mode": {
    "name": "ipython",
    "version": 3
   },
   "file_extension": ".py",
   "mimetype": "text/x-python",
   "name": "python",
   "nbconvert_exporter": "python",
   "pygments_lexer": "ipython3",
   "version": "3.9.7"
  }
 },
 "nbformat": 4,
 "nbformat_minor": 5
}
